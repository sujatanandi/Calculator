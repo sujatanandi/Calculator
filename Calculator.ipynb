{
 "cells": [
  {
   "cell_type": "code",
   "execution_count": 5,
   "metadata": {},
   "outputs": [],
   "source": [
    "import tkinter\n",
    "import random\n",
    "\n",
    "colors = [ 'red', 'green', 'blue', 'cyan', 'magenta', '#123456', 'brown',\n",
    "         'black']\n",
    "\n",
    "root = tkinter.Tk()\n",
    "l1 = tkinter.Label(root, text=\"My Personal Calculator\",\n",
    "                  font=('Times', 20, 'bold'), fg='red')\n",
    "l1.pack()\n",
    "\n",
    "s = tkinter.StringVar()\n",
    "e = tkinter.Entry(root, textvariable=s, font=('Times', 30, 'bold'), \n",
    "                 bg=\"#123456\", fg='white')\n",
    "e.pack()\n",
    "\n",
    "\n",
    "def add_label():\n",
    "    color = random.choice(colors)\n",
    "    ans = eval(s.get())\n",
    "    text = f\"{s.get()} = {ans:.2f}\"\n",
    "    label = tkinter.Label(root, text=text,  font=('Times', 20, 'bold'), fg=color)\n",
    "    s.set('')\n",
    "    label.pack()\n",
    "    \n",
    "    \n",
    "b = tkinter.Button(root, text=\"!Solve Me!\", command=add_label,\n",
    "                  font=15, bg='#123456', fg='white', height=1, width=25)\n",
    "b.pack()\n",
    "\n",
    "exit_button = tkinter.Button(root, text=\"!EXIT!\", command=root.destroy,\n",
    "                            font=15, bg='#123456', fg='white', height=1, width=25)\n",
    "exit_button.pack()\n",
    "\n",
    "root.title('Calculator')\n",
    "root.wm_minsize(800, 600)\n",
    "root.mainloop()"
   ]
  },
  {
   "cell_type": "code",
   "execution_count": null,
   "metadata": {},
   "outputs": [],
   "source": []
  }
 ],
 "metadata": {
  "kernelspec": {
   "display_name": "Python 3",
   "language": "python",
   "name": "python3"
  },
  "language_info": {
   "codemirror_mode": {
    "name": "ipython",
    "version": 3
   },
   "file_extension": ".py",
   "mimetype": "text/x-python",
   "name": "python",
   "nbconvert_exporter": "python",
   "pygments_lexer": "ipython3",
   "version": "3.6.5"
  }
 },
 "nbformat": 4,
 "nbformat_minor": 2
}
